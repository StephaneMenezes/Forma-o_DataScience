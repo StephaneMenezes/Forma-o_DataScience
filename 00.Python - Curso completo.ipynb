{
 "cells": [
  {
   "cell_type": "markdown",
   "id": "c51ff96d",
   "metadata": {},
   "source": [
    "Linguagem Python"
   ]
  },
  {
   "cell_type": "markdown",
   "id": "d3d37c1f",
   "metadata": {},
   "source": [
    "## Variáveis e tipos de dados"
   ]
  },
  {
   "cell_type": "markdown",
   "id": "b44cd0a6",
   "metadata": {},
   "source": [
    "Em python, váriaveis são declaradas atribuindo um valor incial a elas, o tipo de dados desse valor determina o tipo de váriavel"
   ]
  },
  {
   "cell_type": "code",
   "execution_count": 2,
   "id": "a01024d0",
   "metadata": {},
   "outputs": [],
   "source": [
    "#Criando uma variável \n",
    "x = 1"
   ]
  },
  {
   "cell_type": "code",
   "execution_count": 4,
   "id": "4b7b295a",
   "metadata": {},
   "outputs": [
    {
     "name": "stdout",
     "output_type": "stream",
     "text": [
      "1\n"
     ]
    }
   ],
   "source": [
    "# Imprimindo o valor de uma variável:\n",
    "print(x)"
   ]
  },
  {
   "cell_type": "code",
   "execution_count": 6,
   "id": "73a26db8",
   "metadata": {},
   "outputs": [
    {
     "data": {
      "text/plain": [
       "int"
      ]
     },
     "execution_count": 6,
     "metadata": {},
     "output_type": "execute_result"
    }
   ],
   "source": [
    "#Verificando o tipo de uma variável:\n",
    "type(x)"
   ]
  },
  {
   "cell_type": "markdown",
   "id": "7ac40073",
   "metadata": {},
   "source": [
    "Em python, nós temos vários tipos de variáveis alguns deles são:\n",
    "\n",
    "* Strings: Consistem em cadeias de caracteres, podem ser denominados por aspas simples ou duplas. ex:\n",
    "a = \"Borracha\" \n",
    "* Númericas, armazenam números que podem ser:\n",
    "- Int: Número inteiros : 1 , 2 , 3 e etc...\n",
    "- Float: Números com pontos flutuantes: 10.5 , 22.1, 13.5 e etc...\n",
    "* Booleanos: Podem receber valores True(Verdadeiros) e False (falso). \n",
    "* None: É um tipo de dados que corresponde a valor nenhum. \n"
   ]
  },
  {
   "cell_type": "code",
   "execution_count": 22,
   "id": "af74d1ae",
   "metadata": {},
   "outputs": [],
   "source": [
    "#Alguns exemplos: \n",
    "\n",
    "var_1 = 6 \n",
    "var_2 = \"Stephane\"\n",
    "var_3 = 10.5\n",
    "var_4 = True\n",
    "var_6 = False "
   ]
  },
  {
   "cell_type": "code",
   "execution_count": 10,
   "id": "bca803bd",
   "metadata": {},
   "outputs": [
    {
     "data": {
      "text/plain": [
       "int"
      ]
     },
     "execution_count": 10,
     "metadata": {},
     "output_type": "execute_result"
    }
   ],
   "source": [
    "#Int\n",
    "\n",
    "type(var_1)"
   ]
  },
  {
   "cell_type": "code",
   "execution_count": 15,
   "id": "86f83719",
   "metadata": {},
   "outputs": [
    {
     "data": {
      "text/plain": [
       "str"
      ]
     },
     "execution_count": 15,
     "metadata": {},
     "output_type": "execute_result"
    }
   ],
   "source": [
    "type(var_2)"
   ]
  },
  {
   "cell_type": "code",
   "execution_count": 17,
   "id": "8baa29a7",
   "metadata": {},
   "outputs": [
    {
     "data": {
      "text/plain": [
       "float"
      ]
     },
     "execution_count": 17,
     "metadata": {},
     "output_type": "execute_result"
    }
   ],
   "source": [
    "type(var_3)"
   ]
  },
  {
   "cell_type": "code",
   "execution_count": 25,
   "id": "b87be1cc",
   "metadata": {},
   "outputs": [
    {
     "data": {
      "text/plain": [
       "bool"
      ]
     },
     "execution_count": 25,
     "metadata": {},
     "output_type": "execute_result"
    }
   ],
   "source": [
    "type(var_4)"
   ]
  },
  {
   "cell_type": "code",
   "execution_count": 45,
   "id": "0b1540ab",
   "metadata": {},
   "outputs": [
    {
     "data": {
      "text/plain": [
       "bool"
      ]
     },
     "execution_count": 45,
     "metadata": {},
     "output_type": "execute_result"
    }
   ],
   "source": [
    "type(var_6)"
   ]
  },
  {
   "cell_type": "markdown",
   "id": "10d4cd0e",
   "metadata": {},
   "source": [
    "# Operações Matemáticas\n"
   ]
  },
  {
   "cell_type": "markdown",
   "id": "a3d8a843",
   "metadata": {},
   "source": [
    "Operadores Matemáticos:\n",
    "Em python também podemos fazer operações matemáticos, os operadores da linguagem podem ser divididos em: \n",
    "\n",
    "* Operadores aritimeticos: \n",
    "\n",
    "ex:"
   ]
  },
  {
   "cell_type": "code",
   "execution_count": 29,
   "id": "4327deb3",
   "metadata": {},
   "outputs": [
    {
     "name": "stdout",
     "output_type": "stream",
     "text": [
      "7\n"
     ]
    }
   ],
   "source": [
    "#Adição: \n",
    "x = 5 \n",
    "y = 2 \n",
    "\n",
    "print(x + y)"
   ]
  },
  {
   "cell_type": "code",
   "execution_count": 31,
   "id": "8bdd0d45",
   "metadata": {},
   "outputs": [
    {
     "name": "stdout",
     "output_type": "stream",
     "text": [
      "3\n"
     ]
    }
   ],
   "source": [
    "#Subtração:\n",
    "\n",
    "print(x-y)"
   ]
  },
  {
   "cell_type": "code",
   "execution_count": 34,
   "id": "ca5aeece",
   "metadata": {},
   "outputs": [
    {
     "name": "stdout",
     "output_type": "stream",
     "text": [
      "10\n"
     ]
    }
   ],
   "source": [
    "#Multiplicação:\n",
    "\n",
    "print(x*y)"
   ]
  },
  {
   "cell_type": "code",
   "execution_count": 36,
   "id": "c363350a",
   "metadata": {},
   "outputs": [
    {
     "name": "stdout",
     "output_type": "stream",
     "text": [
      "2.5\n"
     ]
    }
   ],
   "source": [
    "#Divisão:\n",
    "\n",
    "print(x/y)"
   ]
  },
  {
   "cell_type": "code",
   "execution_count": 38,
   "id": "03b015c4",
   "metadata": {},
   "outputs": [
    {
     "name": "stdout",
     "output_type": "stream",
     "text": [
      "1\n"
     ]
    }
   ],
   "source": [
    "#Resto:\n",
    "\n",
    "print(x%y)"
   ]
  },
  {
   "cell_type": "code",
   "execution_count": 40,
   "id": "8fec0579",
   "metadata": {},
   "outputs": [
    {
     "name": "stdout",
     "output_type": "stream",
     "text": [
      "25\n"
     ]
    }
   ],
   "source": [
    "#Potenciação:\n",
    "\n",
    "print(x**y)"
   ]
  },
  {
   "cell_type": "code",
   "execution_count": 42,
   "id": "cd6139ba",
   "metadata": {},
   "outputs": [
    {
     "name": "stdout",
     "output_type": "stream",
     "text": [
      "2\n"
     ]
    }
   ],
   "source": [
    "# Divisão inteira:\n",
    "\n",
    "print(x//y)"
   ]
  },
  {
   "cell_type": "code",
   "execution_count": 44,
   "id": "f33fec46",
   "metadata": {},
   "outputs": [],
   "source": [
    "#Lembrando que, segundo regras matemáticas a divisão por dois números reais sempre será um número real.\n",
    "# A precendia em python é feita seguindo a ordem matemática normal, onde é efetuado primeiro o que há dentro do paratenses"
   ]
  },
  {
   "cell_type": "markdown",
   "id": "3265578b",
   "metadata": {},
   "source": [
    "# Operadores de Comparação:"
   ]
  },
  {
   "cell_type": "code",
   "execution_count": 47,
   "id": "a4f3f50e",
   "metadata": {},
   "outputs": [
    {
     "data": {
      "text/plain": [
       "True"
      ]
     },
     "execution_count": 47,
     "metadata": {},
     "output_type": "execute_result"
    }
   ],
   "source": [
    "#Operadores de igualdade:\n",
    "\n",
    "#Tendo a variável: \n",
    "\n",
    "x = 2 \n",
    "\n",
    "# Os operadores de igual vão verificar se os argumentos são iguais ou não, esse operador é dados por (==):\n",
    "\n",
    "x == 2"
   ]
  },
  {
   "cell_type": "code",
   "execution_count": 49,
   "id": "fade4161",
   "metadata": {},
   "outputs": [
    {
     "data": {
      "text/plain": [
       "False"
      ]
     },
     "execution_count": 49,
     "metadata": {},
     "output_type": "execute_result"
    }
   ],
   "source": [
    "x == 3"
   ]
  },
  {
   "cell_type": "code",
   "execution_count": 51,
   "id": "4b6d0f5b",
   "metadata": {},
   "outputs": [
    {
     "name": "stdout",
     "output_type": "stream",
     "text": [
      "True\n"
     ]
    }
   ],
   "source": [
    "print('maça' == 'maça')"
   ]
  },
  {
   "cell_type": "code",
   "execution_count": 53,
   "id": "f9465801",
   "metadata": {},
   "outputs": [
    {
     "data": {
      "text/plain": [
       "False"
      ]
     },
     "execution_count": 53,
     "metadata": {},
     "output_type": "execute_result"
    }
   ],
   "source": [
    "#desigualdade: é dado por (!=)\n",
    "\n",
    "x!=2"
   ]
  },
  {
   "cell_type": "code",
   "execution_count": 55,
   "id": "67ef5070",
   "metadata": {},
   "outputs": [
    {
     "data": {
      "text/plain": [
       "True"
      ]
     },
     "execution_count": 55,
     "metadata": {},
     "output_type": "execute_result"
    }
   ],
   "source": [
    "x!=3"
   ]
  },
  {
   "cell_type": "code",
   "execution_count": 58,
   "id": "a1035750",
   "metadata": {},
   "outputs": [
    {
     "name": "stdout",
     "output_type": "stream",
     "text": [
      "False\n"
     ]
    }
   ],
   "source": [
    "print('maçã'!='maçã')"
   ]
  },
  {
   "cell_type": "markdown",
   "id": "1d07d7ac",
   "metadata": {},
   "source": [
    "# Operadores Lógicos:"
   ]
  },
  {
   "cell_type": "code",
   "execution_count": 60,
   "id": "09f5911e",
   "metadata": {},
   "outputs": [],
   "source": [
    "#and : Retorna True se ambos os seus argumentos forem verdadeiros\n",
    "# or : Se um dor argumentos forem verdade\n",
    "# not : inverte o resultado de seu operando "
   ]
  },
  {
   "cell_type": "code",
   "execution_count": 62,
   "id": "7b2faeb3",
   "metadata": {},
   "outputs": [],
   "source": [
    "mentira = False\n",
    "verdade = True"
   ]
  },
  {
   "cell_type": "code",
   "execution_count": null,
   "id": "ab19df82",
   "metadata": {},
   "outputs": [],
   "source": []
  },
  {
   "cell_type": "code",
   "execution_count": 64,
   "id": "545533f3",
   "metadata": {},
   "outputs": [
    {
     "data": {
      "text/plain": [
       "False"
      ]
     },
     "execution_count": 64,
     "metadata": {},
     "output_type": "execute_result"
    }
   ],
   "source": [
    "verdade and mentira"
   ]
  },
  {
   "cell_type": "code",
   "execution_count": 65,
   "id": "7120e286",
   "metadata": {},
   "outputs": [
    {
     "data": {
      "text/plain": [
       "True"
      ]
     },
     "execution_count": 65,
     "metadata": {},
     "output_type": "execute_result"
    }
   ],
   "source": [
    "verdade or mentira"
   ]
  },
  {
   "cell_type": "code",
   "execution_count": 68,
   "id": "4a373c48",
   "metadata": {},
   "outputs": [
    {
     "data": {
      "text/plain": [
       "False"
      ]
     },
     "execution_count": 68,
     "metadata": {},
     "output_type": "execute_result"
    }
   ],
   "source": [
    "not verdade "
   ]
  },
  {
   "cell_type": "code",
   "execution_count": 70,
   "id": "6069b24c",
   "metadata": {},
   "outputs": [
    {
     "data": {
      "text/plain": [
       "True"
      ]
     },
     "execution_count": 70,
     "metadata": {},
     "output_type": "execute_result"
    }
   ],
   "source": [
    "not mentira"
   ]
  },
  {
   "cell_type": "code",
   "execution_count": 72,
   "id": "34510623",
   "metadata": {},
   "outputs": [
    {
     "data": {
      "text/plain": [
       "True"
      ]
     },
     "execution_count": 72,
     "metadata": {},
     "output_type": "execute_result"
    }
   ],
   "source": [
    "verdade and not mentira"
   ]
  },
  {
   "cell_type": "code",
   "execution_count": 73,
   "id": "63c1230a",
   "metadata": {},
   "outputs": [
    {
     "data": {
      "text/plain": [
       "False"
      ]
     },
     "execution_count": 73,
     "metadata": {},
     "output_type": "execute_result"
    }
   ],
   "source": [
    "not verdade and not mentira"
   ]
  },
  {
   "cell_type": "markdown",
   "id": "ce7cef6f",
   "metadata": {},
   "source": [
    "# Listas, Tuplas e Set"
   ]
  },
  {
   "cell_type": "markdown",
   "id": "52bfc429",
   "metadata": {},
   "source": [
    "#Listas:\n",
    "\n",
    "#Uma Lista é um conjunto de dados ordenado: Ou seja, o primeiro item da lista recebe o índice 0; o segundo recebe o índice 1 e assim por diante\n",
    "\n",
    "\n"
   ]
  },
  {
   "cell_type": "code",
   "execution_count": 106,
   "id": "85062428",
   "metadata": {},
   "outputs": [],
   "source": [
    "#Criando uma lista:\n",
    "\n",
    "alunos = ['anderson','victor','jeymsson','Bruno']\n",
    "notas = [10,20,30,5,6,7,8]"
   ]
  },
  {
   "cell_type": "code",
   "execution_count": 80,
   "id": "6297a744",
   "metadata": {},
   "outputs": [
    {
     "name": "stdout",
     "output_type": "stream",
     "text": [
      "<class 'list'>\n"
     ]
    }
   ],
   "source": [
    "print(type(alunos))"
   ]
  },
  {
   "cell_type": "code",
   "execution_count": 83,
   "id": "3c9c6a21",
   "metadata": {},
   "outputs": [
    {
     "name": "stdout",
     "output_type": "stream",
     "text": [
      "anderson\n"
     ]
    }
   ],
   "source": [
    "#Verificando elementos separados das listas, ao imprimir o indice 0 da lista, ele retorna o primeiro item\n",
    "print(alunos[0])"
   ]
  },
  {
   "cell_type": "code",
   "execution_count": 85,
   "id": "ed6cf801",
   "metadata": {},
   "outputs": [
    {
     "name": "stdout",
     "output_type": "stream",
     "text": [
      "victor\n"
     ]
    }
   ],
   "source": [
    "#Verificando elementos separados das listas, ao imprimir o indice 1 da lista, ele retorna o segundo item\n",
    "print(alunos[1])"
   ]
  },
  {
   "cell_type": "code",
   "execution_count": 88,
   "id": "a07151a2",
   "metadata": {},
   "outputs": [
    {
     "name": "stdout",
     "output_type": "stream",
     "text": [
      "Lucas\n"
     ]
    }
   ],
   "source": [
    "#Verificando elementos separados das listas, ao imprimir o indice -1 da lista, ele retorna o último item\n",
    "print(alunos[-1])"
   ]
  },
  {
   "cell_type": "code",
   "execution_count": 89,
   "id": "c6637a40",
   "metadata": {},
   "outputs": [
    {
     "name": "stdout",
     "output_type": "stream",
     "text": [
      "Bruno\n"
     ]
    }
   ],
   "source": [
    "#Verificando elementos separados das listas, ao imprimir o indice -2 da lista, ele retorna o penultimo item\n",
    "print(alunos[-2])"
   ]
  },
  {
   "cell_type": "code",
   "execution_count": 90,
   "id": "9a473eae",
   "metadata": {},
   "outputs": [
    {
     "name": "stdout",
     "output_type": "stream",
     "text": [
      "['anderson', 'victor', 'jeymsson', 'Bruno', 'Lucas', 'Lucas']\n"
     ]
    }
   ],
   "source": [
    "#adicionando itens a listas: \n",
    "alunos.append('Lucas')\n",
    "\n",
    "#O append irá adicionar um item ao final da lista\n",
    "\n",
    "print(alunos)"
   ]
  },
  {
   "cell_type": "code",
   "execution_count": 99,
   "id": "9f4817df",
   "metadata": {},
   "outputs": [
    {
     "name": "stdout",
     "output_type": "stream",
     "text": [
      "['Stephane', 'anderson', 'victor', 'jeymsson', 'Bruno', 'Lucas', 'Lucas']\n"
     ]
    }
   ],
   "source": [
    "#Observamos que ao ultilizar o comando insert, podemos adicionar um item pelo indice:\n",
    "alunos.insert(0,'Stephane')\n",
    "\n",
    "print(alunos)"
   ]
  },
  {
   "cell_type": "code",
   "execution_count": 100,
   "id": "06bbeea2",
   "metadata": {},
   "outputs": [
    {
     "name": "stdout",
     "output_type": "stream",
     "text": [
      "['anderson', 'victor', 'jeymsson', 'Bruno', 'Lucas', 'Lucas']\n"
     ]
    }
   ],
   "source": [
    "#Removendo itens de uma lista: O remove precisa do item que você quer remover, como se fosse um append ao contrário\n",
    "alunos.remove('Stephane')\n",
    "print(alunos)"
   ]
  },
  {
   "cell_type": "code",
   "execution_count": 103,
   "id": "5d1d9c99",
   "metadata": {},
   "outputs": [
    {
     "name": "stdout",
     "output_type": "stream",
     "text": [
      "['anderson', 'victor', 'jeymsson']\n"
     ]
    }
   ],
   "source": [
    "#Removendo itens de uma lista: o pop precisa do index\n",
    "\n",
    "alunos.pop(3)\n",
    "\n",
    "print(alunos)"
   ]
  },
  {
   "cell_type": "code",
   "execution_count": 108,
   "id": "e66e42ee",
   "metadata": {},
   "outputs": [
    {
     "name": "stdout",
     "output_type": "stream",
     "text": [
      "['anderson', 'victor', 'jeymsson', 'Bruno', 10, 20, 30, 5, 6, 7, 8, 10, 20, 30, 5, 6, 7, 8]\n"
     ]
    }
   ],
   "source": [
    "# extendendo uma lista:\n",
    "\n",
    "alunos.extend(notas)\n",
    "\n",
    "print(alunos)"
   ]
  },
  {
   "cell_type": "code",
   "execution_count": 111,
   "id": "dc035149",
   "metadata": {},
   "outputs": [
    {
     "ename": "AttributeError",
     "evalue": "'set' object has no attribute 'append'",
     "output_type": "error",
     "traceback": [
      "\u001b[1;31m---------------------------------------------------------------------------\u001b[0m",
      "\u001b[1;31mAttributeError\u001b[0m                            Traceback (most recent call last)",
      "Input \u001b[1;32mIn [111]\u001b[0m, in \u001b[0;36m<cell line: 4>\u001b[1;34m()\u001b[0m\n\u001b[0;32m      1\u001b[0m \u001b[38;5;66;03m#Tuplas, as tuplas são como as listas porém com dados imutaveis:\u001b[39;00m\n\u001b[0;32m      3\u001b[0m tuplas \u001b[38;5;241m=\u001b[39m {\u001b[38;5;241m1\u001b[39m,\u001b[38;5;241m2\u001b[39m,\u001b[38;5;241m3\u001b[39m,\u001b[38;5;241m4\u001b[39m}\n\u001b[1;32m----> 4\u001b[0m \u001b[43mtuplas\u001b[49m\u001b[38;5;241;43m.\u001b[39;49m\u001b[43mappend\u001b[49m(\u001b[38;5;241m2\u001b[39m)\n",
      "\u001b[1;31mAttributeError\u001b[0m: 'set' object has no attribute 'append'"
     ]
    }
   ],
   "source": [
    "#Tuplas, as tuplas são como as listas porém com dados imutaveis:\n",
    "\n",
    "tuplas = {1,2,3,4}\n",
    "tuplas.append(2)"
   ]
  },
  {
   "cell_type": "code",
   "execution_count": 114,
   "id": "0c5bd0a8",
   "metadata": {},
   "outputs": [
    {
     "name": "stdout",
     "output_type": "stream",
     "text": [
      "{1, 2, 3, 4}\n"
     ]
    }
   ],
   "source": [
    "# O set, ou conjuntos: Servem para agrupar elementos semelhantes, são únicos (Não repetem ) e não são ordenados:\n",
    "\n",
    "set_notas = {1,2,3,4}\n",
    "\n",
    "print(set_notas)"
   ]
  },
  {
   "cell_type": "code",
   "execution_count": 116,
   "id": "ec94820d",
   "metadata": {},
   "outputs": [
    {
     "name": "stdout",
     "output_type": "stream",
     "text": [
      "{1, 2, 3, 4, 10}\n"
     ]
    }
   ],
   "source": [
    "set_notas.add(10)\n",
    "\n",
    "print(set_notas)"
   ]
  },
  {
   "cell_type": "code",
   "execution_count": 119,
   "id": "31d839b3",
   "metadata": {},
   "outputs": [
    {
     "name": "stdout",
     "output_type": "stream",
     "text": [
      "{1, 2, 3, 4, 10}\n"
     ]
    }
   ],
   "source": [
    "set_notas.add(1)\n",
    "\n",
    "print(set_notas)"
   ]
  },
  {
   "cell_type": "markdown",
   "id": "0595efb2",
   "metadata": {},
   "source": [
    "# Exericios práticos:\n",
    "\n",
    "1) Crie uma váriavel chamada valores e armazene nela os números de 1 a 10. Imprima o sétimo elemento da lista e na linha seguinte o conteúdo da lista completa. \n",
    "\n",
    "2) Altere o programa anterior, acrescentando uma variavel chamada números extensos contendo os números da questão anterior escrito por extendo, e uma lista composta, contendo duas listas anteriores, imprima seus conteúdos de saída padrão . Imprima o valor número númerico e por extenso do primeiro e ultimo item da lista: \n",
    "\n",
    "3) a) Crie uma lista vazia denominada itens e acrescente três strings: \"Livro\",\"cardeno\" e \"borracha\".\n",
    "   b) Altera o índice 1 para \"régua\"\n",
    "   c) verifique se o item caderno está na lista\n",
    "   d) Imprima a quantidade de elementos da lista, remova o último elemento da lista e imprima-o e em seguida imprima o novo           tamanho da lista. \n",
    "   e) crie uma váriavel chamada fatia, que contenha os dois últimos elementos da lista e imprima-a na saída padrão"
   ]
  },
  {
   "cell_type": "code",
   "execution_count": 130,
   "id": "274c7c92",
   "metadata": {},
   "outputs": [
    {
     "name": "stdout",
     "output_type": "stream",
     "text": [
      "O sétimo elemento é:7\n",
      "a lista completa é:[1, 2, 3, 4, 5, 6, 7, 8, 9, 10]\n"
     ]
    }
   ],
   "source": [
    "#1 \n",
    "\n",
    "valores = [1,2,3,4,5,6,7,8,9,10]\n",
    "#imprimindo o setimos elemento\n",
    "print(f'O sétimo elemento é:{valores[6]}')\n",
    "#Imprimindo a lista completa\n",
    "print(f'a lista completa é:{valores}')"
   ]
  },
  {
   "cell_type": "code",
   "execution_count": 135,
   "id": "50b92587",
   "metadata": {},
   "outputs": [],
   "source": [
    "#dois\n",
    "numeros_extensos= [\"um\",\"dois\",\"tres\",\"quatro\",\"cinco\",\"seis\",\"sete\",\"oito\",\"nove\",\"dez\"]\n",
    "lista_numeros=[valores,numeros_extensos]"
   ]
  },
  {
   "cell_type": "code",
   "execution_count": 138,
   "id": "24828c8f",
   "metadata": {},
   "outputs": [
    {
     "name": "stdout",
     "output_type": "stream",
     "text": [
      "[[1, 2, 3, 4, 5, 6, 7, 8, 9, 10], ['um', 'dois', 'tres', 'quatro', 'cinco', 'seis', 'sete', 'oito', 'nove', 'dez']]\n"
     ]
    }
   ],
   "source": [
    "print(lista_numeros)"
   ]
  },
  {
   "cell_type": "code",
   "execution_count": 145,
   "id": "18e30b53",
   "metadata": {},
   "outputs": [
    {
     "name": "stdout",
     "output_type": "stream",
     "text": [
      "1\n",
      "um\n"
     ]
    }
   ],
   "source": [
    "print(lista_numeros[0][0])\n",
    "print(lista_numeros[1][0])"
   ]
  },
  {
   "cell_type": "code",
   "execution_count": 147,
   "id": "66709f25",
   "metadata": {},
   "outputs": [
    {
     "name": "stdout",
     "output_type": "stream",
     "text": [
      "10\n",
      "dez\n"
     ]
    }
   ],
   "source": [
    "print(lista_numeros[0][-1])\n",
    "print(lista_numeros[1][-1])"
   ]
  },
  {
   "cell_type": "code",
   "execution_count": 159,
   "id": "26119761",
   "metadata": {},
   "outputs": [
    {
     "name": "stdout",
     "output_type": "stream",
     "text": [
      "['livro', 'régua', 'borracha']\n"
     ]
    }
   ],
   "source": [
    "#3 \n",
    "#a)\n",
    "itens = [\"livro\", \"caderno\",\"borracha\"]\n",
    "#b) \n",
    "itens[1] = \"régua\"\n",
    "\n",
    "print(itens)"
   ]
  },
  {
   "cell_type": "code",
   "execution_count": 160,
   "id": "d9575856",
   "metadata": {},
   "outputs": [
    {
     "name": "stdout",
     "output_type": "stream",
     "text": [
      "Produto não cadastrado\n"
     ]
    }
   ],
   "source": [
    "#c)\n",
    "if \"caderno\" in itens:\n",
    "    print(\"Produto cadastrado\")\n",
    "else: \n",
    "    print(\"Produto não cadastrado\")"
   ]
  },
  {
   "cell_type": "code",
   "execution_count": 161,
   "id": "c9a32cdb",
   "metadata": {},
   "outputs": [
    {
     "name": "stdout",
     "output_type": "stream",
     "text": [
      "A lista possui 3 itens\n"
     ]
    },
    {
     "data": {
      "text/plain": [
       "'borracha'"
      ]
     },
     "execution_count": 161,
     "metadata": {},
     "output_type": "execute_result"
    }
   ],
   "source": [
    "#d) \n",
    "print(f'A lista possui {len(itens)} itens')\n",
    "\n",
    "itens.pop(-1)"
   ]
  },
  {
   "cell_type": "code",
   "execution_count": 164,
   "id": "320477ca",
   "metadata": {},
   "outputs": [
    {
     "name": "stdout",
     "output_type": "stream",
     "text": [
      "Agora a lista possui 2 itens\n"
     ]
    }
   ],
   "source": [
    "print(f'Agora a lista possui {len(itens)} itens')"
   ]
  },
  {
   "cell_type": "code",
   "execution_count": 167,
   "id": "fc11a746",
   "metadata": {},
   "outputs": [
    {
     "name": "stdout",
     "output_type": "stream",
     "text": [
      "Os dois últimos elementos da lista são: ['livro', 'régua']\n"
     ]
    }
   ],
   "source": [
    "#e) \n",
    "\n",
    "fatia = itens[-2:]\n",
    "print(f'Os dois últimos elementos da lista são: {fatia}')"
   ]
  },
  {
   "cell_type": "markdown",
   "id": "32271fb9",
   "metadata": {},
   "source": [
    "# Variáveis Condicionais"
   ]
  },
  {
   "cell_type": "markdown",
   "id": "935a8b1e",
   "metadata": {},
   "source": [
    "IF o IF está presente na grande maioria das linguagens de programação, eles testa condições e se elas forem satisfeitas executa o código dentro de um suíte, exemplo:"
   ]
  },
  {
   "cell_type": "code",
   "execution_count": 171,
   "id": "97e93907",
   "metadata": {},
   "outputs": [
    {
     "name": "stdout",
     "output_type": "stream",
     "text": [
      "A variável é maior que zero\n"
     ]
    }
   ],
   "source": [
    "x = 5 \n",
    "\n",
    "if x > 0 :\n",
    "    print('A variável é maior que zero')"
   ]
  },
  {
   "cell_type": "markdown",
   "id": "a892eb4b",
   "metadata": {},
   "source": [
    "A linha de código acima foi exibiu a mensagem dentro do suíte pois a variavel x realmente era maior que 5, no entanto se nós tivermos a seguinte situação: \n"
   ]
  },
  {
   "cell_type": "code",
   "execution_count": 173,
   "id": "6a20d582",
   "metadata": {},
   "outputs": [],
   "source": [
    "x = -1 \n",
    "\n",
    "if x > 0 : \n",
    "    print('A variável é maior que zero')"
   ]
  },
  {
   "cell_type": "markdown",
   "id": "99fa9695",
   "metadata": {},
   "source": [
    "Neste caso, o nosso código não retornou nenhuma mensagem pois verificou que o valor de x não era maior que zero, é por isso que existem as variações else e elif, para verificar outras situações além do if, observe:"
   ]
  },
  {
   "cell_type": "code",
   "execution_count": 175,
   "id": "438d3e70",
   "metadata": {},
   "outputs": [
    {
     "name": "stdout",
     "output_type": "stream",
     "text": [
      " A variável é menor que zero\n"
     ]
    }
   ],
   "source": [
    "x = -1 \n",
    "\n",
    "if x > 0 :\n",
    "    print('A variável é maior que zero')\n",
    "else: \n",
    "    print(' A variável é menor que zero')"
   ]
  },
  {
   "cell_type": "markdown",
   "id": "47344f73",
   "metadata": {},
   "source": [
    "Desta forma o nosso código retorna informações nas duas hipoteses sendo maior que zero e menor que zero, vamos criar um código onde a estrutura condicional retorna várias hipoteses:"
   ]
  },
  {
   "cell_type": "code",
   "execution_count": 183,
   "id": "f4411ad3",
   "metadata": {},
   "outputs": [
    {
     "name": "stdout",
     "output_type": "stream",
     "text": [
      "Parabéns! Você passou com uma nota acima da média, sua nota foi 8.5!\n"
     ]
    }
   ],
   "source": [
    "media = 8.5 \n",
    "\n",
    "if media < 7 :\n",
    "    print(f'Que pena, você não passou sua nota foi: {media}')\n",
    "    \n",
    "elif media > 7: \n",
    "    print(f'Parabéns! Você passou com uma nota acima da média, sua nota foi {media}!')\n",
    "    \n",
    "else:\n",
    "    print(f'Parabéns! Você passou com a nota média, sua nota foi {media}')"
   ]
  },
  {
   "cell_type": "code",
   "execution_count": 184,
   "id": "6acbe533",
   "metadata": {},
   "outputs": [
    {
     "name": "stdout",
     "output_type": "stream",
     "text": [
      "Que pena, você não passou sua nota foi: 5.5\n"
     ]
    }
   ],
   "source": [
    "media = 5.5 \n",
    "if media < 7 :\n",
    "    print(f'Que pena, você não passou sua nota foi: {media}')\n",
    "    \n",
    "elif media > 7: \n",
    "    print(f'Parabéns! Você passou com uma nota acima da média, sua nota foi {media}!')\n",
    "    \n",
    "else:\n",
    "    print(f'Parabéns! Você passou com a nota média, sua nota foi {media}')"
   ]
  },
  {
   "cell_type": "code",
   "execution_count": 186,
   "id": "fc7620e0",
   "metadata": {},
   "outputs": [
    {
     "name": "stdout",
     "output_type": "stream",
     "text": [
      "Parabéns! Você passou com a nota média, sua nota foi 7\n"
     ]
    }
   ],
   "source": [
    "media = 7 \n",
    "if media < 7 :\n",
    "    print(f'Que pena, você não passou sua nota foi: {media}')\n",
    "    \n",
    "elif media > 7: \n",
    "    print(f'Parabéns! Você passou com uma nota acima da média, sua nota foi {media}!')\n",
    "    \n",
    "else:\n",
    "    print(f'Parabéns! Você passou com a nota média, sua nota foi {media}')"
   ]
  },
  {
   "cell_type": "markdown",
   "id": "55fd45ea",
   "metadata": {},
   "source": [
    "# Estrutura de repetição"
   ]
  },
  {
   "cell_type": "markdown",
   "id": "be4f2ce1",
   "metadata": {},
   "source": [
    "While\n",
    "\n",
    "O while serve para executar um determinado suíte de código, enquanto uma certa condição for satisfeita"
   ]
  },
  {
   "cell_type": "code",
   "execution_count": 2,
   "id": "bef52423",
   "metadata": {},
   "outputs": [],
   "source": [
    "n = 210\n",
    "contador = 0 \n",
    "x1 = 1 \n",
    "x2 = 1 \n",
    "resultado = 1 "
   ]
  },
  {
   "cell_type": "code",
   "execution_count": 3,
   "id": "f7ebd37f",
   "metadata": {},
   "outputs": [
    {
     "name": "stdout",
     "output_type": "stream",
     "text": [
      "Finalizamos a contagem o contador é: 210\n"
     ]
    }
   ],
   "source": [
    "while(contador<n):\n",
    "    contador = contador + 1 \n",
    "else: \n",
    "    print(f'Finalizamos a contagem o contador é: {contador}')"
   ]
  },
  {
   "cell_type": "markdown",
   "id": "f42f3b90",
   "metadata": {},
   "source": [
    "Loop for: "
   ]
  },
  {
   "cell_type": "code",
   "execution_count": 7,
   "id": "8e2f5d65",
   "metadata": {},
   "outputs": [
    {
     "name": "stdout",
     "output_type": "stream",
     "text": [
      "A cidade atualmente examinada é Aliança\n",
      "A cidade atualmente examinada é Belo Jardim\n",
      "A cidade atualmente examinada é Caruaru\n",
      "A cidade atualmente examinada é Petrolina\n"
     ]
    }
   ],
   "source": [
    "cidades = ['Aliança','Belo Jardim','Caruaru','Petrolina']\n",
    "for cidade_atual in cidades:\n",
    "    print(f'A cidade atualmente examinada é {cidade_atual}')"
   ]
  },
  {
   "cell_type": "code",
   "execution_count": 9,
   "id": "d7bb8543",
   "metadata": {},
   "outputs": [
    {
     "name": "stdout",
     "output_type": "stream",
     "text": [
      "2\n",
      "4\n",
      "6\n",
      "8\n",
      "10\n",
      "12\n",
      "14\n",
      "16\n",
      "18\n"
     ]
    }
   ],
   "source": [
    "for num in range(1,10):\n",
    "    print(num+num)"
   ]
  },
  {
   "cell_type": "markdown",
   "id": "58c8a093",
   "metadata": {},
   "source": [
    "var = \"Olá Mundo\"\n",
    "\n",
    "for caracteres in var: \n",
    "    print(caracteres)"
   ]
  },
  {
   "cell_type": "markdown",
   "id": "f4fb54b2",
   "metadata": {},
   "source": [
    "# Break e Continue"
   ]
  },
  {
   "cell_type": "markdown",
   "id": "6c0bcbba",
   "metadata": {},
   "source": [
    "As instruções break e continue são utilizadas para alterar o comportamento de um loop durante sua execução. Quando o interpretador Python estiver executando um loop e chegar a uma instrução break, a execução será encerrada. "
   ]
  },
  {
   "cell_type": "code",
   "execution_count": 18,
   "id": "14d97067",
   "metadata": {},
   "outputs": [
    {
     "name": "stdout",
     "output_type": "stream",
     "text": [
      " x = 1\n",
      " x = 2\n",
      " x = 3\n",
      " x = 4\n",
      "O programa terminou!\n"
     ]
    }
   ],
   "source": [
    "# Exemplo: \n",
    "\n",
    "x = 0\n",
    "\n",
    "while(x<10):\n",
    "    x = x +1 \n",
    "    if(x == 5):\n",
    "        break\n",
    "    print(f' x = {x}')\n",
    "    \n",
    "print('O programa terminou!')"
   ]
  },
  {
   "cell_type": "markdown",
   "id": "563cd566",
   "metadata": {},
   "source": [
    "No programa acima, nós temos uma variável x que recebe inicialmente o valor zero, nós criamos um while e dizemos que enquanto x for menos que 10 adicione mais 1. O \"normal\" seria para em 10, no entanto, nós adicionamos um if com a condição de que se o x for igual a 5 break e imprima o x até o momento. E ai está, vamos testar com um outro número:\n"
   ]
  },
  {
   "cell_type": "code",
   "execution_count": 20,
   "id": "6bdcc23d",
   "metadata": {},
   "outputs": [
    {
     "name": "stdout",
     "output_type": "stream",
     "text": [
      " x = 1\n",
      " x = 2\n",
      " x = 3\n",
      " x = 4\n",
      " x = 5\n",
      " x = 6\n",
      " x = 7\n",
      " x = 8\n",
      "O programa terminou!\n"
     ]
    }
   ],
   "source": [
    "x = 0\n",
    "\n",
    "while(x<10):\n",
    "    x = x +1 \n",
    "    if(x == 9):\n",
    "        break\n",
    "    print(f' x = {x}')\n",
    "    \n",
    "print('O programa terminou!')"
   ]
  },
  {
   "cell_type": "code",
   "execution_count": 22,
   "id": "d30ef62f",
   "metadata": {},
   "outputs": [
    {
     "name": "stdout",
     "output_type": "stream",
     "text": [
      " x = 1\n",
      " x = 2\n",
      " x = 3\n",
      " x = 4\n",
      " x = 5\n",
      " x = 6\n",
      " x = 7\n",
      " x = 8\n",
      " x = 10\n",
      "O programa terminou!\n"
     ]
    }
   ],
   "source": [
    "x = 0\n",
    "\n",
    "while(x<10):\n",
    "    x = x +1 \n",
    "    if(x == 9):\n",
    "        continue\n",
    "        \n",
    "    print(f' x = {x}')\n",
    "    \n",
    "print('O programa terminou!')"
   ]
  },
  {
   "cell_type": "markdown",
   "id": "c4b973a5",
   "metadata": {},
   "source": [
    "# Funções"
   ]
  },
  {
   "cell_type": "code",
   "execution_count": 27,
   "id": "98897968",
   "metadata": {},
   "outputs": [],
   "source": [
    "def eleva_ao_quadrado(x):\n",
    "    return x**2 "
   ]
  },
  {
   "cell_type": "code",
   "execution_count": 29,
   "id": "0b1fa77f",
   "metadata": {},
   "outputs": [
    {
     "data": {
      "text/plain": [
       "16"
      ]
     },
     "execution_count": 29,
     "metadata": {},
     "output_type": "execute_result"
    }
   ],
   "source": [
    "eleva_ao_quadrado(4)"
   ]
  },
  {
   "cell_type": "code",
   "execution_count": 31,
   "id": "dc922670",
   "metadata": {},
   "outputs": [],
   "source": [
    "def diz_ola():\n",
    "        return print('Olá mundo')"
   ]
  },
  {
   "cell_type": "code",
   "execution_count": 35,
   "id": "46ee1d93",
   "metadata": {},
   "outputs": [
    {
     "name": "stdout",
     "output_type": "stream",
     "text": [
      "Olá mundo\n"
     ]
    }
   ],
   "source": [
    "diz_ola()"
   ]
  },
  {
   "cell_type": "code",
   "execution_count": 37,
   "id": "23f2c1ac",
   "metadata": {},
   "outputs": [],
   "source": [
    "def somatoria(a,b):\n",
    "    return (a+b)"
   ]
  },
  {
   "cell_type": "code",
   "execution_count": 39,
   "id": "e47d0daa",
   "metadata": {},
   "outputs": [
    {
     "data": {
      "text/plain": [
       "7"
      ]
     },
     "execution_count": 39,
     "metadata": {},
     "output_type": "execute_result"
    }
   ],
   "source": [
    "somatoria(2,5)"
   ]
  },
  {
   "cell_type": "code",
   "execution_count": 40,
   "id": "b6297670",
   "metadata": {},
   "outputs": [],
   "source": [
    "# O lambda pode substituir funções que poderiam escritas em uma só linha:"
   ]
  },
  {
   "cell_type": "code",
   "execution_count": 42,
   "id": "48640247",
   "metadata": {},
   "outputs": [],
   "source": [
    "aoquadrado = lambda x: x**2 "
   ]
  },
  {
   "cell_type": "code",
   "execution_count": 44,
   "id": "00363ac1",
   "metadata": {},
   "outputs": [
    {
     "data": {
      "text/plain": [
       "9"
      ]
     },
     "execution_count": 44,
     "metadata": {},
     "output_type": "execute_result"
    }
   ],
   "source": [
    "aoquadrado(3)"
   ]
  },
  {
   "cell_type": "code",
   "execution_count": 48,
   "id": "bedfe5da",
   "metadata": {},
   "outputs": [],
   "source": [
    "soma = lambda a,b: a + b "
   ]
  },
  {
   "cell_type": "code",
   "execution_count": 50,
   "id": "20d181b9",
   "metadata": {},
   "outputs": [
    {
     "data": {
      "text/plain": [
       "7"
      ]
     },
     "execution_count": 50,
     "metadata": {},
     "output_type": "execute_result"
    }
   ],
   "source": [
    "soma(5,2)"
   ]
  },
  {
   "cell_type": "code",
   "execution_count": 53,
   "id": "1f4dd06a",
   "metadata": {},
   "outputs": [],
   "source": [
    "def impar_ou_par(n):\n",
    "    if n%2 == 0 :\n",
    "        print(\"Este número é par\")\n",
    "    else: \n",
    "        print(\"Este número não é par\")"
   ]
  },
  {
   "cell_type": "code",
   "execution_count": 55,
   "id": "cf688bc1",
   "metadata": {},
   "outputs": [
    {
     "name": "stdout",
     "output_type": "stream",
     "text": [
      "Este número é par\n"
     ]
    }
   ],
   "source": [
    "impar_ou_par(8)"
   ]
  },
  {
   "cell_type": "code",
   "execution_count": 57,
   "id": "0190deb8",
   "metadata": {},
   "outputs": [
    {
     "name": "stdout",
     "output_type": "stream",
     "text": [
      "Este número não é par\n"
     ]
    }
   ],
   "source": [
    "impar_ou_par(7)"
   ]
  },
  {
   "cell_type": "code",
   "execution_count": 60,
   "id": "1eda5594",
   "metadata": {},
   "outputs": [],
   "source": [
    "impopar = lambda n: print(f'{n} é par') if n%2 == 0 else print(f'{n} é impar')"
   ]
  },
  {
   "cell_type": "code",
   "execution_count": 61,
   "id": "efdccd12",
   "metadata": {},
   "outputs": [
    {
     "name": "stdout",
     "output_type": "stream",
     "text": [
      "100 é par\n"
     ]
    }
   ],
   "source": [
    "impopar(100)"
   ]
  }
 ],
 "metadata": {
  "kernelspec": {
   "display_name": "Python 3 (ipykernel)",
   "language": "python",
   "name": "python3"
  },
  "language_info": {
   "codemirror_mode": {
    "name": "ipython",
    "version": 3
   },
   "file_extension": ".py",
   "mimetype": "text/x-python",
   "name": "python",
   "nbconvert_exporter": "python",
   "pygments_lexer": "ipython3",
   "version": "3.9.12"
  }
 },
 "nbformat": 4,
 "nbformat_minor": 5
}
